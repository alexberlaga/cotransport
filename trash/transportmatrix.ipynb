{
 "cells": [
  {
   "cell_type": "code",
   "execution_count": 125,
   "id": "1636f931",
   "metadata": {},
   "outputs": [],
   "source": [
    "import numpy as np\n",
    "import scipy as sp\n",
    "from sympy import Matrix, Transpose\n",
    "import matplotlib.pyplot as plt"
   ]
  },
  {
   "cell_type": "code",
   "execution_count": 5,
   "id": "87cd08d2",
   "metadata": {},
   "outputs": [],
   "source": [
    "np.array((4, 3))"
   ]
  },
  {
   "cell_type": "code",
   "execution_count": 45,
   "id": "f0c5bbc6",
   "metadata": {},
   "outputs": [],
   "source": []
  },
  {
   "cell_type": "code",
   "execution_count": 180,
   "id": "28dc3b6f",
   "metadata": {
    "scrolled": true
   },
   "outputs": [],
   "source": [
    "# p = 100000\n",
    "s = 20000\n",
    "g = 100\n",
    "x = 50\n",
    "t = 10000\n",
    "q = 100\n",
    "\n",
    "# b = 100\n",
    "flowrates = []\n",
    "optbvals = []\n",
    "pvals = []\n",
    "for pp in range(1000):\n",
    "    p = pp * 1000 + 1000\n",
    "    pvals.append(p)\n",
    "    mat = Matrix(np.array([[-(g*x + b) , g/x , 0, 0, 0, p, 0], \n",
    "               [g*x , -(g/x + b), q, 0, 0, 0, 0],\n",
    "               [0, b, -(g + q + t), b, 0, g, 0],\n",
    "               [0, 0, t , -(b + g * x), g/x, 0, 0], \n",
    "               [0, 0, 0, g*x , -(b + g/x), s, 0], \n",
    "               [b, 0, g, 0, b, - (g + p + s), 0], \n",
    "                       [1, 1, 1, 1, 1, 1, 1]], dtype = np.int32)) \n",
    "\n",
    "        mat3 = Matrix(mat)\n",
    "        mat4 = mat3.rref()\n",
    "\n",
    "\n",
    "        sugarflowrate = mat4[0][3, 6] * g*x - mat4[0][4, 6] * g/x\n",
    "        flowrates.append(sugarflowrate)\n",
    "    "
   ]
  },
  {
   "cell_type": "code",
   "execution_count": 178,
   "id": "db97bf89",
   "metadata": {
    "scrolled": true
   },
   "outputs": [
    {
     "data": {
      "text/latex": [
       "$\\displaystyle \\frac{31281861980000}{712488629127}$"
      ],
      "text/plain": [
       "31281861980000/712488629127"
      ]
     },
     "execution_count": 178,
     "metadata": {},
     "output_type": "execute_result"
    }
   ],
   "source": []
  },
  {
   "cell_type": "code",
   "execution_count": 151,
   "id": "9d377615",
   "metadata": {},
   "outputs": [
    {
     "data": {
      "text/latex": [
       "$\\displaystyle \\left[\\begin{matrix}1 & 0 & 0 & 0 & 0 & 0 & 0\\\\0 & 1 & 0 & 0 & 0 & 0 & 0\\\\0 & 0 & 1 & 0 & 0 & 0 & 0\\\\0 & 0 & 0 & 1 & 0 & 0 & 0\\\\0 & 0 & 0 & 0 & 1 & 0 & 0\\\\0 & 0 & 0 & 0 & 0 & 1 & 0\\\\0 & 0 & 0 & 0 & 0 & 0 & 1\\end{matrix}\\right]$"
      ],
      "text/plain": [
       "Matrix([\n",
       "[1, 0, 0, 0, 0, 0, 0],\n",
       "[0, 1, 0, 0, 0, 0, 0],\n",
       "[0, 0, 1, 0, 0, 0, 0],\n",
       "[0, 0, 0, 1, 0, 0, 0],\n",
       "[0, 0, 0, 0, 1, 0, 0],\n",
       "[0, 0, 0, 0, 0, 1, 0],\n",
       "[0, 0, 0, 0, 0, 0, 1]])"
      ]
     },
     "execution_count": 151,
     "metadata": {},
     "output_type": "execute_result"
    }
   ],
   "source": []
  },
  {
   "cell_type": "code",
   "execution_count": null,
   "id": "17838fc7",
   "metadata": {},
   "outputs": [],
   "source": []
  }
 ],
 "metadata": {
  "kernelspec": {
   "display_name": "Python 3",
   "language": "python",
   "name": "python3"
  },
  "language_info": {
   "codemirror_mode": {
    "name": "ipython",
    "version": 3
   },
   "file_extension": ".py",
   "mimetype": "text/x-python",
   "name": "python",
   "nbconvert_exporter": "python",
   "pygments_lexer": "ipython3",
   "version": "3.8.8"
  }
 },
 "nbformat": 4,
 "nbformat_minor": 5
}
